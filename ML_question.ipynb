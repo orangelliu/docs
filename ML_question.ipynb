{
 "cells": [
  {
   "cell_type": "code",
   "execution_count": 1,
   "metadata": {
    "collapsed": false
   },
   "outputs": [],
   "source": [
    "import numpy as np\n",
    "import pandas as pd\n",
    "import seaborn as sns\n",
    "import matplotlib.pyplot as plt\n",
    "from scipy import stats\n",
    "from urlparse import urlparse\n",
    "%matplotlib inline\n",
    "from sklearn.ensemble import RandomForestRegressor\n",
    "from sklearn.metrics import roc_curve, auc\n",
    "from sklearn.model_selection import KFold"
   ]
  },
  {
   "cell_type": "code",
   "execution_count": 2,
   "metadata": {
    "collapsed": false
   },
   "outputs": [],
   "source": [
    "us_company = pd.read_csv('us_company.csv')\n",
    "yahoo_fin = pd.read_csv('YahooFin.csv')\n",
    "\n",
    "# The goal is to pickup the domain keyword from either email or domain and try to join the two data sources.\n",
    "us_company['domain_keyword'] = us_company['CompanyEmailDomain'].apply(lambda x: x.lower().replace('.com', ''))\n",
    "us_company['log_EMPTOTAL'] = us_company['EMPTOTAL'].apply(lambda x: np.log10(x))\n",
    "yahoo_fin['domain_keyword'] = yahoo_fin['Domain'].apply(\n",
    "    lambda x: np.nan if pd.isnull(x) else urlparse(x).netloc.lower().replace('www.', '').split('.')[0])\n",
    "\n",
    "# Convert a few string columns to numerical columns.\n",
    "def cap_to_num(str):\n",
    "    if pd.isnull(str):\n",
    "        return np.nan\n",
    "    base_str = str.replace('$', '').replace(',', '')\n",
    "    if base_str.find('B') > 0:\n",
    "        base_num = 1000000000\n",
    "    elif base_str.find('M') > 0:\n",
    "        base_num = 1000000\n",
    "    elif base_str.find('K') > 0:\n",
    "        base_num = 1000\n",
    "    else:\n",
    "        base_num = 1\n",
    "    return float(base_str.replace('B', '').replace('M', '')) * base_num\n",
    "\n",
    "def employee_convert(employee_str):\n",
    "    if pd.isnull(employee_str):\n",
    "        return np.nan\n",
    "    employee_str_base = employee_str.replace(',', '').replace(\"\\\"\", '')\n",
    "    return int(employee_str_base)\n",
    "                                             \n",
    "\n",
    "# The market cap for two companies are a little bit too small.\n",
    "yahoo_fin['market_cap'] = yahoo_fin['MarketCap'].apply(cap_to_num)\n",
    "yahoo_fin['EMPTOTAL'] = yahoo_fin['Num_Employees'].apply(employee_convert)"
   ]
  },
  {
   "cell_type": "code",
   "execution_count": null,
   "metadata": {
    "collapsed": false
   },
   "outputs": [],
   "source": [
    "us_company.head()"
   ]
  },
  {
   "cell_type": "code",
   "execution_count": null,
   "metadata": {
    "collapsed": true
   },
   "outputs": [],
   "source": [
    "yahoo_fin.head()"
   ]
  },
  {
   "cell_type": "code",
   "execution_count": null,
   "metadata": {
    "collapsed": true
   },
   "outputs": [],
   "source": [
    "ax = sns.distplot(us_company['log_EMPTOTAL'], norm_hist=False, kde=False)\n",
    "ax.set_title('Histogram of Employee Count')\n",
    "ax.set_xlabel('log10(Employee Count)')\n",
    "ax.set_ylabel('Company Count')\n",
    "plt.show()"
   ]
  },
  {
   "cell_type": "code",
   "execution_count": null,
   "metadata": {
    "collapsed": true
   },
   "outputs": [],
   "source": [
    "top_industry = us_company.groupby('industry')['EMPTOTAL'].count().\\\n",
    "    reset_index().sort_values(by='EMPTOTAL', ascending=False, inplace=False).industry.tolist()[:7]\n",
    "us_company['top_industry'] = us_company['industry'].apply(lambda x: x if x in top_industry else 'Other')\n",
    "ax = sns.violinplot(x='top_industry', y='log_EMPTOTAL', data=us_company)\n",
    "ax.set_xticklabels(ax.get_xticklabels(), rotation=70)\n",
    "ax.set_title('Violin Plot of Employee Count by Industry')\n",
    "ax.set_xlabel('Industry')\n",
    "ax.set_ylabel('log10(Employee Count)')\n",
    "plt.show()"
   ]
  },
  {
   "cell_type": "code",
   "execution_count": 20,
   "metadata": {
    "collapsed": false
   },
   "outputs": [],
   "source": [
    "# Let's try to estimate employee count given other features.\n",
    "# Assumptions:\n",
    "# 1. LOCALSALES and USSALES are accurate.\n",
    "rf_industry = us_company.groupby('industry')['EMPTOTAL'].count().\\\n",
    "    reset_index().sort_values(by='EMPTOTAL', ascending=False, inplace=False).iloc[:10]['industry'].tolist()\n",
    "rf_vertical = us_company.groupby('vertical')['EMPTOTAL'].count().\\\n",
    "    reset_index().sort_values(by='EMPTOTAL', ascending=False, inplace=False).iloc[:20]['vertical'].tolist()\n",
    "rf_category = us_company.groupby('category')['EMPTOTAL'].count().\\\n",
    "    reset_index().sort_values(by='EMPTOTAL', ascending=False, inplace=False).iloc[:20]['category'].tolist()\n",
    "\n",
    "def filter_top_list(x, top_list):\n",
    "    if pd.isnull(x) or x not in top_list:\n",
    "        return 'Other'\n",
    "    else:\n",
    "        return x\n",
    "    \n",
    "us_company['rf_industry'] = us_company['industry'].apply(lambda x: filter_top_list(x, top_list=rf_industry))\n",
    "us_company['rf_vertical'] = us_company['vertical'].apply(lambda x: filter_top_list(x, top_list=rf_vertical))\n",
    "us_company['rf_category'] = us_company['category'].apply(lambda x: filter_top_list(x, top_list=rf_category))\n",
    "us_company['log_lcoalsales'] = us_company['LOCALSALES'].apply(lambda x: np.log(x + 0.0001))\n",
    "us_company['log_ussales'] = us_company['USSALES'].apply(lambda x: np.log(x + 0.0001))\n",
    "\n",
    "feature_list =[us_company[['log_lcoalsales', 'log_ussales']]]\n",
    "for cal_col in ['rf_industry', 'rf_vertical', 'rf_category']:\n",
    "    feature_list.append(pd.get_dummies(us_company[cal_col], prefix=cal_col))\n",
    "feature = pd.concat(feature_list, axis=1)\n",
    "Y = np.log(us_company['EMPTOTAL'])"
   ]
  },
  {
   "cell_type": "code",
   "execution_count": 22,
   "metadata": {
    "collapsed": false
   },
   "outputs": [],
   "source": [
    "RF_model = RandomForestRegressor(n_estimators=800)\n",
    "kf = KFold(n_splits=10, shuffle=True)\n",
    "result = []\n",
    "for train_index, test_index in kf.split(feature):\n",
    "    X_train, X_test = feature.iloc[train_index], feature.iloc[test_index]\n",
    "    y_train, y_test = Y.iloc[train_index], Y.iloc[test_index]\n",
    "    RF_model.fit(X_train, y_train)\n",
    "    y_pred = RF_model.predict(X_test)\n",
    "    result.append({\n",
    "        'train_index': train_index,\n",
    "        'test_index': test_index,\n",
    "        'y_train': y_train,\n",
    "        'y_pred': y_pred,\n",
    "        'MAE_log': np.mean(abs(y_test - y_pred)),\n",
    "        'MAE': np.mean(abs(np.exp(y_test) - np.exp(y_pred))),\n",
    "        'RMSE_log': np.sqrt(np.mean((y_test - y_pred) ** 2)),\n",
    "        'RMSE': np.sqrt(np.mean((np.exp(y_test) - np.exp(y_pred)) ** 2))\n",
    "    })"
   ]
  },
  {
   "cell_type": "code",
   "execution_count": 25,
   "metadata": {
    "collapsed": false
   },
   "outputs": [
    {
     "data": {
      "text/plain": [
       "(0.9710466259071797, 2767.4921800668226)"
      ]
     },
     "execution_count": 25,
     "metadata": {},
     "output_type": "execute_result"
    }
   ],
   "source": [
    "np.mean([x['MAE_log'] for x in result]), np.mean([x['MAE'] for x in result])"
   ]
  },
  {
   "cell_type": "code",
   "execution_count": 26,
   "metadata": {
    "collapsed": false
   },
   "outputs": [
    {
     "data": {
      "text/plain": [
       "(1.3687840541884628, 12365.199759924619)"
      ]
     },
     "execution_count": 26,
     "metadata": {},
     "output_type": "execute_result"
    }
   ],
   "source": [
    "np.mean([x['RMSE_log'] for x in result]), np.mean([x['RMSE'] for x in result])"
   ]
  },
  {
   "cell_type": "code",
   "execution_count": null,
   "metadata": {
    "collapsed": true
   },
   "outputs": [],
   "source": []
  }
 ],
 "metadata": {
  "kernelspec": {
   "display_name": "Python 2",
   "language": "python",
   "name": "python2"
  },
  "language_info": {
   "codemirror_mode": {
    "name": "ipython",
    "version": 2
   },
   "file_extension": ".py",
   "mimetype": "text/x-python",
   "name": "python",
   "nbconvert_exporter": "python",
   "pygments_lexer": "ipython2",
   "version": "2.7.6"
  }
 },
 "nbformat": 4,
 "nbformat_minor": 0
}
